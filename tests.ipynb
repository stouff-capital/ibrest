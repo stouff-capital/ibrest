{
 "cells": [
  {
   "cell_type": "code",
   "execution_count": 14,
   "metadata": {},
   "outputs": [],
   "source": [
    "import json\n",
    "import requests"
   ]
  },
  {
   "cell_type": "code",
   "execution_count": 15,
   "metadata": {},
   "outputs": [
    {
     "data": {
      "text/plain": [
       "'{\"1\": {\"status\": \"ApiPending\"}}\\n'"
      ]
     },
     "execution_count": 15,
     "metadata": {},
     "output_type": "execute_result"
    }
   ],
   "source": [
    "data = {\n",
    "    'exchange': 'GLOBEX',\n",
    "    'totalQuantity': 3,\n",
    "    'secType': \"FUT\",\n",
    "    'action': 'sell',\n",
    "    'orderType': 'mkt',\n",
    "    'localSymbol': 'ESM8',\n",
    "    \n",
    "}\n",
    "res = requests.post('http://127.0.0.1:443/order', json=data)\n",
    "res.content"
   ]
  },
  {
   "cell_type": "code",
   "execution_count": 16,
   "metadata": {},
   "outputs": [
    {
     "data": {
      "text/plain": [
       "'{\"2\": {\"status\": \"ApiPending\"}}\\n'"
      ]
     },
     "execution_count": 16,
     "metadata": {},
     "output_type": "execute_result"
    }
   ],
   "source": [
    "data = {\n",
    "    'exchange': 'SMART',\n",
    "    'totalQuantity': 50,\n",
    "    'secType': \"STK\",\n",
    "    'action': 'buy',\n",
    "    'orderType': 'mkt',\n",
    "    'symbol': 'IBM',\n",
    "    'currency': 'USD'\n",
    "    \n",
    "}\n",
    "res = requests.post('http://127.0.0.1:443/order', json=data)\n",
    "res.content"
   ]
  },
  {
   "cell_type": "code",
   "execution_count": 17,
   "metadata": {},
   "outputs": [
    {
     "data": {
      "text/plain": [
       "{u'commissionReport': {},\n",
       " u'execDetails': [{u'contract': {u'm_conId': 269745169,\n",
       "    u'm_currency': u'USD',\n",
       "    u'm_exchange': u'GLOBEX',\n",
       "    u'm_expiry': u'20180615',\n",
       "    u'm_includeExpired': False,\n",
       "    u'm_localSymbol': u'ESM8',\n",
       "    u'm_multiplier': u'50',\n",
       "    u'm_right': None,\n",
       "    u'm_secType': u'FUT',\n",
       "    u'm_strike': 0.0,\n",
       "    u'm_symbol': u'ES',\n",
       "    u'm_tradingClass': u'ES'},\n",
       "   u'execution': {u'm_acctNumber': u'DU15074',\n",
       "    u'm_avgPrice': 2725.25,\n",
       "    u'm_clientId': 0,\n",
       "    u'm_cumQty': 3,\n",
       "    u'm_evMultiplier': 0,\n",
       "    u'm_evRule': None,\n",
       "    u'm_exchange': u'GLOBEX',\n",
       "    u'm_execId': u'00004468.5b1df467.01.01',\n",
       "    u'm_liquidation': 0,\n",
       "    u'm_orderId': 1,\n",
       "    u'm_orderRef': None,\n",
       "    u'm_permId': 712084635,\n",
       "    u'm_price': 2725.25,\n",
       "    u'm_shares': 3,\n",
       "    u'm_side': u'SLD',\n",
       "    u'm_time': u'20180611  15:06:58'}},\n",
       "  {u'contract': {u'm_conId': 8314,\n",
       "    u'm_currency': u'USD',\n",
       "    u'm_exchange': u'ISLAND',\n",
       "    u'm_expiry': None,\n",
       "    u'm_includeExpired': False,\n",
       "    u'm_localSymbol': u'IBM',\n",
       "    u'm_multiplier': None,\n",
       "    u'm_right': None,\n",
       "    u'm_secType': u'STK',\n",
       "    u'm_strike': 0.0,\n",
       "    u'm_symbol': u'IBM',\n",
       "    u'm_tradingClass': u'IBM'},\n",
       "   u'execution': {u'm_acctNumber': u'DU15074',\n",
       "    u'm_avgPrice': 149.12,\n",
       "    u'm_clientId': 0,\n",
       "    u'm_cumQty': 50,\n",
       "    u'm_evMultiplier': 0,\n",
       "    u'm_evRule': None,\n",
       "    u'm_exchange': u'ISLAND',\n",
       "    u'm_execId': u'00004466.5b1dfdc3.01.01',\n",
       "    u'm_liquidation': 0,\n",
       "    u'm_orderId': 2,\n",
       "    u'm_orderRef': None,\n",
       "    u'm_permId': 712084636,\n",
       "    u'm_price': 149.12,\n",
       "    u'm_shares': 50,\n",
       "    u'm_side': u'BOT',\n",
       "    u'm_time': u'20180611  15:08:08'}}],\n",
       " u'execDetailsEnd': True}"
      ]
     },
     "execution_count": 17,
     "metadata": {},
     "output_type": "execute_result"
    }
   ],
   "source": [
    "res = requests.get('http://127.0.0.1:443/executions')\n",
    "json.loads(res.content)"
   ]
  },
  {
   "cell_type": "code",
   "execution_count": 18,
   "metadata": {},
   "outputs": [
    {
     "data": {
      "text/plain": [
       "'{\"3\": {\"status\": \"Submitted\", \"m_orderType\": \"LMT\", \"m_lmtPrice\": 146.5, \"m_totalQuantity\": 23, \"m_auxPrice\": 0.0, \"m_symbol\": \"IBM\"}}\\n'"
      ]
     },
     "execution_count": 18,
     "metadata": {},
     "output_type": "execute_result"
    }
   ],
   "source": [
    "data = {\n",
    "    'exchange': 'SMART',\n",
    "    'totalQuantity': 23,\n",
    "    'secType': \"STK\",\n",
    "    'action': 'buy',\n",
    "    'orderType': 'lmt',\n",
    "    'lmtPrice': 146.5,\n",
    "    'symbol': 'IBM',\n",
    "    'currency': 'USD'\n",
    "    \n",
    "}\n",
    "res = requests.post('http://127.0.0.1:443/order', json=data)\n",
    "res.content"
   ]
  },
  {
   "cell_type": "code",
   "execution_count": 19,
   "metadata": {},
   "outputs": [
    {
     "data": {
      "text/plain": [
       "{u'openOrder': [{u'contract': {u'm_comboLegsDescrip': None,\n",
       "    u'm_conId': 8314,\n",
       "    u'm_currency': u'USD',\n",
       "    u'm_exchange': u'SMART',\n",
       "    u'm_expiry': None,\n",
       "    u'm_includeExpired': False,\n",
       "    u'm_localSymbol': u'IBM',\n",
       "    u'm_multiplier': None,\n",
       "    u'm_right': u'?',\n",
       "    u'm_secType': u'STK',\n",
       "    u'm_strike': 0.0,\n",
       "    u'm_symbol': u'IBM',\n",
       "    u'm_tradingClass': u'IBM'},\n",
       "   u'order': {u'm_account': u'DU15074',\n",
       "    u'm_action': u'BUY',\n",
       "    u'm_activeStartTime': u'',\n",
       "    u'm_activeStopTime': u'',\n",
       "    u'm_algoStrategy': None,\n",
       "    u'm_allOrNone': False,\n",
       "    u'm_auctionStrategy': 0,\n",
       "    u'm_auxPrice': 0.0,\n",
       "    u'm_basisPoints': 2147483647,\n",
       "    u'm_basisPointsType': 2147483647,\n",
       "    u'm_blockOrder': False,\n",
       "    u'm_clearingAccount': None,\n",
       "    u'm_clearingIntent': u'IB',\n",
       "    u'm_clientId': 0,\n",
       "    u'm_continuousUpdate': 0,\n",
       "    u'm_delta': 2147483647,\n",
       "    u'm_deltaNeutralAuxPrice': 2147483647,\n",
       "    u'm_deltaNeutralClearingAccount': None,\n",
       "    u'm_deltaNeutralClearingIntent': None,\n",
       "    u'm_deltaNeutralConId': 0,\n",
       "    u'm_deltaNeutralDesignatedLocation': None,\n",
       "    u'm_deltaNeutralOpenClose': u'?',\n",
       "    u'm_deltaNeutralOrderType': u'None',\n",
       "    u'm_deltaNeutralSettlingFirm': None,\n",
       "    u'm_deltaNeutralShortSale': False,\n",
       "    u'm_deltaNeutralShortSaleSlot': 0,\n",
       "    u'm_designatedLocation': None,\n",
       "    u'm_discretionaryAmt': 0.0,\n",
       "    u'm_displaySize': 0,\n",
       "    u'm_eTradeOnly': False,\n",
       "    u'm_exemptCode': -1,\n",
       "    u'm_faGroup': None,\n",
       "    u'm_faMethod': None,\n",
       "    u'm_faPercentage': None,\n",
       "    u'm_faProfile': None,\n",
       "    u'm_firmQuoteOnly': False,\n",
       "    u'm_goodAfterTime': None,\n",
       "    u'm_goodTillDate': None,\n",
       "    u'm_hedgeType': None,\n",
       "    u'm_hidden': False,\n",
       "    u'm_lmtPrice': 146.5,\n",
       "    u'm_minQty': 2147483647,\n",
       "    u'm_nbboPriceCap': 2147483647,\n",
       "    u'm_notHeld': False,\n",
       "    u'm_ocaGroup': None,\n",
       "    u'm_ocaType': 3,\n",
       "    u'm_openClose': u'O',\n",
       "    u'm_optOutSmartRouting': False,\n",
       "    u'm_orderId': 3,\n",
       "    u'm_orderRef': None,\n",
       "    u'm_orderType': u'LMT',\n",
       "    u'm_origin': 0,\n",
       "    u'm_outsideRth': False,\n",
       "    u'm_parentId': 0,\n",
       "    u'm_percentOffset': 2147483647,\n",
       "    u'm_permId': 712084638,\n",
       "    u'm_referencePriceType': 0,\n",
       "    u'm_rule80A': None,\n",
       "    u'm_scaleAutoReset': False,\n",
       "    u'm_scaleInitFillQty': 2147483647,\n",
       "    u'm_scaleInitLevelSize': 2147483647,\n",
       "    u'm_scaleInitPosition': 2147483647,\n",
       "    u'm_scalePriceAdjustInterval': 2147483647,\n",
       "    u'm_scalePriceAdjustValue': 2147483647,\n",
       "    u'm_scalePriceIncrement': 2147483647,\n",
       "    u'm_scaleProfitOffset': 2147483647,\n",
       "    u'm_scaleRandomPercent': False,\n",
       "    u'm_scaleSubsLevelSize': 2147483647,\n",
       "    u'm_scaleTable': u'',\n",
       "    u'm_settlingFirm': None,\n",
       "    u'm_shortSaleSlot': 0,\n",
       "    u'm_startingPrice': 2147483647,\n",
       "    u'm_stockRangeLower': 2147483647,\n",
       "    u'm_stockRangeUpper': 2147483647,\n",
       "    u'm_stockRefPrice': 2147483647,\n",
       "    u'm_sweepToFill': False,\n",
       "    u'm_tif': u'DAY',\n",
       "    u'm_totalQuantity': 23,\n",
       "    u'm_trailStopPrice': 2147483647,\n",
       "    u'm_trailingPercent': 2147483647,\n",
       "    u'm_transmit': True,\n",
       "    u'm_triggerMethod': 0,\n",
       "    u'm_volatility': 2147483647,\n",
       "    u'm_volatilityType': 0,\n",
       "    u'm_whatIf': False},\n",
       "   u'orderId': 3,\n",
       "   u'orderState': {u'm_commission': 2147483647,\n",
       "    u'm_commissionCurrency': None,\n",
       "    u'm_equityWithLoan': u'1.7976931348623157E308',\n",
       "    u'm_initMargin': u'1.7976931348623157E308',\n",
       "    u'm_maintMargin': u'1.7976931348623157E308',\n",
       "    u'm_maxCommission': 2147483647,\n",
       "    u'm_minCommission': 2147483647,\n",
       "    u'm_status': u'Submitted',\n",
       "    u'm_warningText': None}}],\n",
       " u'openOrderEnd': True,\n",
       " u'orderStatus': [{u'avgFillPrice': 0.0,\n",
       "   u'clientId': 0,\n",
       "   u'filled': 0,\n",
       "   u'lastFillPrice': 0.0,\n",
       "   u'orderId': 3,\n",
       "   u'parentId': 0,\n",
       "   u'permId': 712084638,\n",
       "   u'remaining': 23,\n",
       "   u'status': u'Submitted',\n",
       "   u'whyHeld': None}]}"
      ]
     },
     "execution_count": 19,
     "metadata": {},
     "output_type": "execute_result"
    }
   ],
   "source": [
    "res = requests.get('http://127.0.0.1:443/order')\n",
    "json.loads(res.content)"
   ]
  },
  {
   "cell_type": "code",
   "execution_count": 20,
   "metadata": {},
   "outputs": [
    {
     "data": {
      "text/plain": [
       "{u'positionEnd': True,\n",
       " u'positions': [{u'account': u'DU15074',\n",
       "   u'avgCost': 136260.44999999998,\n",
       "   u'contract': {u'm_conId': 269745169,\n",
       "    u'm_currency': u'USD',\n",
       "    u'm_exchange': None,\n",
       "    u'm_expiry': u'20180615',\n",
       "    u'm_includeExpired': False,\n",
       "    u'm_localSymbol': u'ESM8',\n",
       "    u'm_multiplier': u'50',\n",
       "    u'm_right': None,\n",
       "    u'm_secType': u'FUT',\n",
       "    u'm_strike': 0.0,\n",
       "    u'm_symbol': u'ES',\n",
       "    u'm_tradingClass': u'ES'},\n",
       "   u'pos': -3},\n",
       "  {u'account': u'DU15074',\n",
       "   u'avgCost': 149.14,\n",
       "   u'contract': {u'm_conId': 8314,\n",
       "    u'm_currency': u'USD',\n",
       "    u'm_exchange': u'NYSE',\n",
       "    u'm_expiry': None,\n",
       "    u'm_includeExpired': False,\n",
       "    u'm_localSymbol': u'IBM',\n",
       "    u'm_multiplier': None,\n",
       "    u'm_right': None,\n",
       "    u'm_secType': u'STK',\n",
       "    u'm_strike': 0.0,\n",
       "    u'm_symbol': u'IBM',\n",
       "    u'm_tradingClass': u'IBM'},\n",
       "   u'pos': 50}]}"
      ]
     },
     "execution_count": 20,
     "metadata": {},
     "output_type": "execute_result"
    }
   ],
   "source": [
    "res = requests.get('http://127.0.0.1:443/account/positions')\n",
    "json.loads(res.content)"
   ]
  },
  {
   "cell_type": "code",
   "execution_count": 21,
   "metadata": {},
   "outputs": [
    {
     "data": {
      "text/plain": [
       "[]"
      ]
     },
     "execution_count": 21,
     "metadata": {},
     "output_type": "execute_result"
    }
   ],
   "source": [
    "res = requests.get('http://127.0.0.1:443/executions/commissions')\n",
    "json.loads(res.content)"
   ]
  },
  {
   "cell_type": "code",
   "execution_count": null,
   "metadata": {},
   "outputs": [],
   "source": []
  }
 ],
 "metadata": {
  "kernelspec": {
   "display_name": "Python 2",
   "language": "python",
   "name": "python2"
  },
  "language_info": {
   "codemirror_mode": {
    "name": "ipython",
    "version": 2
   },
   "file_extension": ".py",
   "mimetype": "text/x-python",
   "name": "python",
   "nbconvert_exporter": "python",
   "pygments_lexer": "ipython2",
   "version": "2.7.15"
  }
 },
 "nbformat": 4,
 "nbformat_minor": 2
}
